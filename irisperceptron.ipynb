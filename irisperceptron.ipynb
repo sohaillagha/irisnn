{
  "nbformat": 4,
  "nbformat_minor": 0,
  "metadata": {
    "colab": {
      "provenance": [],
      "gpuType": "T4",
      "authorship_tag": "ABX9TyPn4Gcm+0o3Edq2ynTGQ7Lm",
      "include_colab_link": true
    },
    "kernelspec": {
      "name": "python3",
      "display_name": "Python 3"
    },
    "language_info": {
      "name": "python"
    },
    "accelerator": "GPU"
  },
  "cells": [
    {
      "cell_type": "markdown",
      "metadata": {
        "id": "view-in-github",
        "colab_type": "text"
      },
      "source": [
        "<a href=\"https://colab.research.google.com/github/sohaillagha/irisnn/blob/main/irisperceptron.ipynb\" target=\"_parent\"><img src=\"https://colab.research.google.com/assets/colab-badge.svg\" alt=\"Open In Colab\"/></a>"
      ]
    },
    {
      "cell_type": "code",
      "execution_count": 13,
      "metadata": {
        "colab": {
          "base_uri": "https://localhost:8080/"
        },
        "id": "U6GFgLgpRUPy",
        "outputId": "8c37f238-0904-441c-d49e-9c51cb58056b"
      },
      "outputs": [
        {
          "output_type": "stream",
          "name": "stdout",
          "text": [
            "    Prediction      Actual\n",
            "0    Virginica   Virginica\n",
            "1   Versicolor  Versicolor\n",
            "2       Setosa      Setosa\n",
            "3    Virginica   Virginica\n",
            "4       Setosa      Setosa\n",
            "5    Virginica   Virginica\n",
            "6       Setosa      Setosa\n",
            "7    Virginica  Versicolor\n",
            "8    Virginica  Versicolor\n",
            "9   Versicolor  Versicolor\n",
            "10  Versicolor   Virginica\n",
            "11   Virginica  Versicolor\n",
            "12  Versicolor  Versicolor\n",
            "13   Virginica  Versicolor\n",
            "14  Versicolor  Versicolor\n",
            "15      Setosa      Setosa\n",
            "16  Versicolor  Versicolor\n",
            "17  Versicolor  Versicolor\n",
            "18      Setosa      Setosa\n",
            "19      Setosa      Setosa\n",
            "20   Virginica   Virginica\n",
            "21  Versicolor  Versicolor\n",
            "22      Setosa      Setosa\n",
            "23      Setosa      Setosa\n",
            "24   Virginica   Virginica\n",
            "25      Setosa      Setosa\n",
            "26      Setosa      Setosa\n",
            "27  Versicolor  Versicolor\n",
            "28  Versicolor  Versicolor\n",
            "29      Setosa      Setosa\n",
            "\n",
            "Wrong predictions out of total:\n",
            "5 / 30\n",
            "\n",
            "Percentage accuracy:\n",
            "83.33%\n"
          ]
        }
      ],
      "source": [
        "from sklearn import datasets\n",
        "from sklearn.model_selection import train_test_split\n",
        "from sklearn.preprocessing import StandardScaler\n",
        "from sklearn.linear_model import Perceptron\n",
        "from sklearn.metrics import accuracy_score\n",
        "import numpy as np\n",
        "import pandas as pd\n",
        "\n",
        "# 1. Load the Data\n",
        "iris = datasets.load_iris()\n",
        "\n",
        "# 2. Get the features and labels from the data\n",
        "x = iris.data\n",
        "y = iris.target\n",
        "\n",
        "# 3. Split the data into training and test data\n",
        "x_train, X_test, y_train, y_test = train_test_split(x, y, test_size=0.2, random_state=0)\n",
        "\n",
        "# 4. Standardize the data\n",
        "sc = StandardScaler()\n",
        "X_train_std = sc.fit_transform(x_train)\n",
        "X_test_std = sc.transform(X_test)\n",
        "\n",
        "# 5. Choose Machine Learning algorithm and set the hyperparameters\n",
        "ppn = Perceptron(max_iter=1000, eta0=0.0001, random_state=0, tol=0.001)\n",
        "\n",
        "# 6. Train the model\n",
        "ppn.fit(X_train_std, y_train)\n",
        "\n",
        "# 7. Make the prediction using the model\n",
        "y_pred = ppn.predict(X_test_std)\n",
        "\n",
        "# Mapping numeric labels to flower names\n",
        "flow_name = {0: 'Setosa', 1: 'Versicolor', 2: 'Virginica'}\n",
        "\n",
        "# Create a DataFrame with labeled predictions\n",
        "comparison_df = pd.DataFrame({\n",
        "    'Prediction': [flow_name[label] for label in y_pred],\n",
        "    'Actual': [flow_name[label] for label in y_test]\n",
        "})\n",
        "\n",
        "print(comparison_df)\n",
        "\n",
        "#Print summary statistics\n",
        "wrong_preds = (y_pred != y_test).sum()\n",
        "total = len(y_test)\n",
        "print(\"\\nWrong predictions out of total:\")\n",
        "print(f\"{wrong_preds} / {total}\")\n",
        "\n",
        "print(\"\\nPercentage accuracy:\")\n",
        "print(f\"{100 * accuracy_score(y_test, y_pred):.2f}%\")\n"
      ]
    }
  ]
}